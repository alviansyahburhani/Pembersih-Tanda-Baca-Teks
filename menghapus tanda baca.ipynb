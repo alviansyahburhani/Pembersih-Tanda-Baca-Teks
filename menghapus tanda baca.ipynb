{
 "cells": [
  {
   "cell_type": "code",
   "execution_count": null,
   "metadata": {},
   "outputs": [],
   "source": [
    "import pandas as pd\n",
    "import string\n",
    "\n",
    "\n",
    "def remove_punctuation(text):\n",
    "    punctuations = string.punctuation\n",
    "    \n",
    "    text_no_punct = ''.join([char for char in text if char not in punctuations])\n",
    "    \n",
    "    return text_no_punct\n",
    "\n",
    "file_path = 'data_riviews.xlsx'\n",
    "df = pd.read_excel(file_path)\n",
    "\n",
    "column_name = 'RIVIEW'\n",
    "\n",
    "df[column_name] = df[column_name].apply(remove_punctuation)\n",
    "\n",
    "df.to_excel('data_riviews_news.xlsx', index=False)"
   ]
  }
 ],
 "metadata": {
  "kernelspec": {
   "display_name": "Python 3",
   "language": "python",
   "name": "python3"
  },
  "language_info": {
   "codemirror_mode": {
    "name": "ipython",
    "version": 3
   },
   "file_extension": ".py",
   "mimetype": "text/x-python",
   "name": "python",
   "nbconvert_exporter": "python",
   "pygments_lexer": "ipython3",
   "version": "3.12.4"
  }
 },
 "nbformat": 4,
 "nbformat_minor": 2
}
